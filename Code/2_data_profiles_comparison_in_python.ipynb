{
 "cells": [
  {
   "cell_type": "code",
   "execution_count": null,
   "metadata": {},
   "outputs": [],
   "source": [
    "# Python Version: 3.11.7\n",
    "\n",
    "import json\n",
    "import pandas as pd\n",
    "\n",
    "# Reads The Preprocessed File\n",
    "def read_preprocessed_file(path):\n",
    "  # Open File\n",
    "  with open(path, 'r') as file:\n",
    "    data = json.loads(file.read())\n",
    "    table = data['table']\n",
    "\n",
    "  # Normalize File\n",
    "  df = pd.json_normalize(table, errors= 'ignore')\n",
    "\n",
    "  # Store Data Keys\n",
    "  keys = []\n",
    "  for col in df.columns:\n",
    "    keys.append(col)\n",
    "  \n",
    "  # Store Data Values\n",
    "  preprocessed_values = df.values.reshape(-1).tolist()\n",
    "  \n",
    "  # Return\n",
    "  return keys, preprocessed_values\n",
    "\n",
    "# Reads The Postprocessed File\n",
    "def read_postprocessed_file(path):\n",
    "  # Open File\n",
    "  with open(path, 'r') as file:\n",
    "    data = json.loads(file.read())\n",
    "    table = data['table']\n",
    "\n",
    "  # Normalize File\n",
    "  df = pd.json_normalize(table, errors= 'ignore')\n",
    "\n",
    "  # Store Data Values\n",
    "  postprocessed_values = df.values.reshape(-1).tolist()\n",
    "  \n",
    "  # Return\n",
    "  return postprocessed_values\n",
    "\n",
    "# Compares Files\n",
    "def compare_data_profiles(keys, preprocessed_values, postprocessed_values):\n",
    "  i = 0\n",
    "  while i < len(preprocessed_values):\n",
    "    result = preprocessed_values[i] - postprocessed_values[i]\n",
    "    print(keys[i] + \": \", result)\n",
    "    i += 1\n",
    "\n",
    "# Driver Code\n",
    "keys, preprocessed_values = read_preprocessed_file(r\"<INPUT PATH 1>\")\n",
    "postprocessed_values = read_postprocessed_file(r\"<INPUT PATH 2>\")\n",
    "\n",
    "compare_data_profiles(keys, preprocessed_values, postprocessed_values)"
   ]
  }
 ],
 "metadata": {
  "kernelspec": {
   "display_name": "Python 3",
   "language": "python",
   "name": "python3"
  },
  "language_info": {
   "codemirror_mode": {
    "name": "ipython",
    "version": 3
   },
   "file_extension": ".py",
   "mimetype": "text/x-python",
   "name": "python",
   "nbconvert_exporter": "python",
   "pygments_lexer": "ipython3",
   "version": "3.11.7"
  }
 },
 "nbformat": 4,
 "nbformat_minor": 2
}
